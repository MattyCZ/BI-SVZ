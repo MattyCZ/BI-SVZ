{
 "cells": [
  {
   "cell_type": "markdown",
   "metadata": {},
   "source": [
    "# Segmentace obrazu a měření rozměrů\n",
    "Základní znalostí při zpracování obrazu je nejenom ideálně nasnímat obraz, ale hlavně ze získaného obrazu dostat použitelné informace. Extrakce objektů z obrazu (oddělení objektů od pozadí) se nazívá segmentace. Nejčastěji se využívá metod prahování, hranové detekce nebo kontur ([viz link](https://circuitdigest.com/tutorial/image-segmentation-using-opencv)).\n",
    "\n",
    "Když už se podaří získat z obrazu objekty, je dále potřeba změřit jejich rozměry - a to nejen v pixelech, ale hlavně reálné rozměry v cm nebo dokonce v menších jednotkách. \n",
    "\n",
    "Na cvičení se bude využívat umělý obrázek s objekty jejichž rozměry bude třeba automatizovaně získat.\n",
    "\n",
    "![](images/index.jpg)"
   ]
  },
  {
   "cell_type": "markdown",
   "metadata": {},
   "source": [
    "### Import knihoven a konfigurace"
   ]
  },
  {
   "cell_type": "code",
   "execution_count": 1,
   "metadata": {
    "pycharm": {
     "name": "#%%\n"
    }
   },
   "outputs": [],
   "source": [
    "%run ../svz.ipynb"
   ]
  },
  {
   "cell_type": "markdown",
   "metadata": {},
   "source": [
    "### Pomocné funkce\n",
    "Z následujících funkcí je potřeba vybírat ty vhodné pro splnění úkolu."
   ]
  },
  {
   "cell_type": "markdown",
   "metadata": {},
   "source": [
    "Seznam funkcí pro přehlednost:\n",
    "\n",
    "\n",
    "První část\n",
    "- [`show_images(...)`](../svz.ipynb#show_functions)\n",
    "- [`show_images(...)`](../svz.ipynb#show_functions)\n",
    "- [`load_image(...)`](../svz.ipynb#load_save_functions)\n",
    "- [`crop(...)`](../svz.ipynb#preprocessing_functions)\n",
    "\n",
    "Druhá část\n",
    "- [`copy_to(...)`](../svz.ipynb#measuring_funtions)\n",
    "- [`midpoint(...)`](../svz.ipynb#measuring_funtions)\n",
    "- [`order_points(...)`](../svz.ipynb#measuring_funtions)\n",
    "- [`rotate_image(...)`](../svz.ipynb#measuring_funtions)\n",
    "- [`draw_rotated_text(...)`](../svz.ipynb#measuring_funtions)\n",
    "- [`draw_real_sizes(...)`](../svz.ipynb#measuring_funtions)"
   ]
  },
  {
   "cell_type": "markdown",
   "metadata": {},
   "source": [
    "---"
   ]
  },
  {
   "cell_type": "markdown",
   "metadata": {},
   "source": [
    "### Úkol 1\n",
    "\n",
    "Úkol je zaměřen na segmentace obrazů, získání kontur objektů a měření poměru rozměrů v cm a pixelech."
   ]
  },
  {
   "cell_type": "markdown",
   "metadata": {},
   "source": [
    "**1) Načtěte a zkontrolujte zaznamenaný obrázek vzoru pomocí kamery. Nadefinujte proměné s šířkou a výškou referečního objektu.**\n",
    "\n",
    "Obrázek nastavte tak, aby byl ideálně záběr pouze na něj. *HINT: Je možné pomoci si oříznutím obrázku (crop).*"
   ]
  },
  {
   "cell_type": "code",
   "execution_count": 2,
   "metadata": {
    "pycharm": {
     "name": "#%%\n"
    }
   },
   "outputs": [],
   "source": [
    "img_patterns = load_image('patterns_photo_basic.jpg') ###\n",
    "img_cropped = crop(img_patterns, 280, 300, 3900, 2500)\n",
    "show_images(img_cropped)"
   ]
  },
  {
   "cell_type": "code",
   "execution_count": 3,
   "metadata": {
    "pycharm": {
     "name": "#%%\n"
    }
   },
   "outputs": [],
   "source": [
    "ref_width_real = 4\n",
    "ref_height_real = 8"
   ]
  },
  {
   "cell_type": "markdown",
   "metadata": {},
   "source": [
    "**2) Využijte funkci [cv2.inRange()](https://docs.opencv.org/3.4.1/d2/de8/group__core__array.html#ga48af0ab51e36436c5d04340e036ce981) k získání masky referenčního obdélníku.**\n",
    "\n",
    "Funkce kromě zdrojového obrázku přijímá dolní a horní mez hodnoty pixelů ve formátu BGR (pozor celé OpenCV funguje v režimu BGR, ne RGB). Tedy dvě trojice (tuple) ve formátu (b, g, r), kde 0 <= b, g, r <= 255. Pixely s hodnotou >= než dolní mez a <= než horní mez budou mít ve výsledné masce hodnotu 255, ostatní 0. \n",
    "\n",
    "Dolní a horní mez naleznete experimentálně."
   ]
  },
  {
   "cell_type": "code",
   "execution_count": 4,
   "metadata": {
    "pycharm": {
     "name": "#%%\n"
    }
   },
   "outputs": [],
   "source": [
    "ref_mask = cv2.inRange(img_cropped, (0,70,120), (100,235, 255)) ### tuples\n",
    "show_images(ref_mask)"
   ]
  },
  {
   "cell_type": "markdown",
   "metadata": {},
   "source": [
    "**3) Naleznete konturu která pokrývá nevětší plochu, otestujte aproximace kontury na obdélník.**\n",
    "\n",
    "Výsledná maska by měla ideálně obsahovat pouze referenční obdelník, v obrazu se ale obecně může vyskytovat i šum. \n",
    "Nyní je nutné získat pozici referenčního obdelníku v obraze masky. \n",
    "Nejjednoduším způsobem je vyhledání kontur (obrysů) v obraze pomocí [cv2.findContours()](https://docs.opencv.org/3.3.1/d3/dc0/group__imgproc__shape.html#ga17ed9f5d79ae97bd4c7cf18403e1689a). Vyhledání kontur funguje jen na binárním černobílém obraze, proto jsme nejdříve museli využít cv2.inRange() k získání masky.\n",
    "\n",
    "Konturu si lze představit jako křivku spojující několik bodů kolem obrysu souvislého objektu. Funkce cv2.findContours() příjímá navíc dva parametry, contour retrieval mode a contour approximation method. Těmito parametry se ve většině případů nemusíme zabývat. Zjednodušeně je tedy nastavíme `mode=cv2.RETR_LIST` a `method=cv2.CHAIN_APPROX_SIMPLE`. Pokud by vás přeci jen zajímaly, můžete si o nich přečíst [zde](https://docs.opencv.org/3.3.1/d4/d73/tutorial_py_contours_begin.html)\n",
    "\n",
    "Vzhledem k šumu, který se na každém snímku vyskytuje, prakticky nikdy nenajdeme konturu pouze jednu. Je tedy nutné následně provést filtrování. V našem případě si vystačíme s výběrem kontury, která má největší plochu.\n",
    "\n",
    "Posledním krokem je validace našeho postupu a vizualizace nalezené kontury pomocí funkce [cv2.drawContours()](https://docs.opencv.org/3.3.1/d6/d6e/group__imgproc__draw.html#ga746c0625f1781f1ffc9056259103edbc).\n",
    "                                                                                "
   ]
  },
  {
   "cell_type": "code",
   "execution_count": 5,
   "metadata": {
    "pycharm": {
     "name": "#%%\n"
    }
   },
   "outputs": [
    {
     "name": "stdout",
     "output_type": "stream",
     "text": [
      "Found 975 contours.\n"
     ]
    }
   ],
   "source": [
    "contours, _  = cv2.findContours(ref_mask, mode=cv2.RETR_LIST ,method=cv2.CHAIN_APPROX_SIMPLE) \n",
    "print(f'Found {len(contours)} contours.')\n",
    "\n",
    "# pick only the contour with the biggest area\n",
    "contour_biggest = max(contours, key=cv2.contourArea)\n",
    "# print(f'Biggest contour area: {cv2.contourArea(contour_biggest)}, coordinates:\\n {contour_biggest.reshape((-1, 2)).tolist()}')\n",
    "contour_drawn = cv2.drawContours(img_cropped.copy(), [contour_biggest], -1, color=(255, 0, 0), thickness=5)\n",
    "show_images(contour_drawn)"
   ]
  },
  {
   "cell_type": "markdown",
   "metadata": {},
   "source": [
    "Z výsledných souřadnic vidíme, že kontura netvoří přesný obdelník, proto ji musíme obdelníkem aproximovat. To lze pomocí funkce [cv2.minAreaRect](https://docs.opencv.org/3.1.0/d3/dc0/group__imgproc__shape.html#ga3d476a3417130ae5154aea421ca7ead9). Návratovou hodnotou této funkce je tuple - (střed obdélníku (x,y), (výška, šířka), úhel rotace obdélníku). Jedna otázka zní, co je výška a co je šířka? Musíte to vždycky kontrolovat okem.\n",
    "\n",
    "Pomocná funkce [cv2.boxPoints()](https://docs.opencv.org/3.1.0/d3/dc0/group__imgproc__shape.html#gaf78d467e024b4d7936cf9397185d2f5c) převádí nalezený obdelník z formátu (střed obdélníku (x,y), (šířka, výška), úhel rotace obdélníku) na 4 rohové body obdélníku ve formátu (x, y). To se může hodit např. k vizualizaci (lze použít jako vstup pro cv2.drawContours()). Pozor, pořadí vrácených bodů není zaručeno."
   ]
  },
  {
   "cell_type": "code",
   "execution_count": 6,
   "metadata": {
    "pycharm": {
     "name": "#%%\n"
    }
   },
   "outputs": [
    {
     "name": "stdout",
     "output_type": "stream",
     "text": [
      "Rect tuple: ((365.51617431640625, 1333.271240234375), (544.0951538085938, 1099.3265380859375), -8.586238861083984)\n",
      "(cx, cy)=(365.51617431640625, 1333.271240234375), (width, height)=(544.0951538085938, 1099.3265380859375), angle=-8.586238861083984\n",
      "Rect points: [[178.5811767578125, 1917.3900146484375], [14.4541015625, 830.3846435546875], [552.451171875, 749.1524658203125], [716.5782470703125, 1836.1578369140625]]\n"
     ]
    }
   ],
   "source": [
    "rect = cv2.minAreaRect(contour_biggest) ###\n",
    "print(f'Rect tuple: {rect}')\n",
    "print(f'(cx, cy)={rect[0]}, (width, height)={rect[1]}, angle={rect[2]}')\n",
    "print(f'Rect points: {cv2.boxPoints(rect).tolist()}')"
   ]
  },
  {
   "cell_type": "markdown",
   "metadata": {},
   "source": [
    "**5) Nalezenou šířku referenčního obdelníku v pixelech můžeme konečně využít k získání poměru skutečné šířky obdélníku v reálných jednotkách a pixelové šířky obdélníku v obraze. Tento poměr budeme následně potřebovat k výpočtu rozměrů ostatních neznámých objektů.**"
   ]
  },
  {
   "cell_type": "code",
   "execution_count": 7,
   "metadata": {
    "pycharm": {
     "name": "#%%\n"
    }
   },
   "outputs": [
    {
     "name": "stdout",
     "output_type": "stream",
     "text": [
      "Ratio between real width and image width: 0.007351655261033905\n"
     ]
    }
   ],
   "source": [
    "ref_width_image, ref_height_image =  rect[1]\n",
    "real_image_ratio = ref_width_real / ref_width_image\n",
    "print(f'Ratio between real width and image width: {real_image_ratio}')"
   ]
  },
  {
   "cell_type": "markdown",
   "metadata": {},
   "source": [
    "---"
   ]
  },
  {
   "cell_type": "markdown",
   "metadata": {},
   "source": [
    "### Úkol 2\n",
    "\n",
    "Úkol 1 máme za sebou a už víme poměr mezi rozměrem v cm a pixelech, tím pádem už můžeme naměřit rozměry ostatních objektů na obrázku s neznámými rozměry."
   ]
  },
  {
   "cell_type": "markdown",
   "metadata": {},
   "source": [
    "**1) Opět využijte funkci [cv2.inRange()](https://docs.opencv.org/3.4.1/d2/de8/group__core__array.html#ga48af0ab51e36436c5d04340e036ce981), tentokrát k získání masky objektů s neznámými skutečnými rozměry.**\n",
    "\n",
    "**2) Nalezněte v nové masce snímku kontury stejně jako v případě referenčního objektu.**\n",
    "\n",
    "**3) Následně je provedeno filtrování kontur podle jejich obsahu. Prahovou hodnotu obsahu v pixelech (threshold) je nutno zvolit experimentálně.**"
   ]
  },
  {
   "cell_type": "code",
   "execution_count": 8,
   "metadata": {
    "pycharm": {
     "name": "#%%\n"
    }
   },
   "outputs": [],
   "source": [
    "\n",
    "\n",
    "patterns_mask = cv2.inRange(img_cropped, (30,90,30), (190,200, 120)) ### tuples\n",
    "\n",
    "show_images(patterns_mask)"
   ]
  },
  {
   "cell_type": "code",
   "execution_count": 9,
   "metadata": {
    "pycharm": {
     "name": "#%%\n"
    }
   },
   "outputs": [
    {
     "name": "stdout",
     "output_type": "stream",
     "text": [
      "Found 8709 contours.\n",
      "After filtering, 4 contours remained.\n"
     ]
    }
   ],
   "source": [
    "contours, _  = cv2.findContours(patterns_mask, mode=cv2.RETR_LIST ,method=cv2.CHAIN_APPROX_SIMPLE) \n",
    "print(f'Found {len(contours)} contours.')\n",
    "\n",
    "# Filter out noise\n",
    "threshold = 10000 ###\n",
    "contours =  [c for c in contours if cv2.contourArea(c) > threshold]\n",
    "print(f'After filtering, {len(contours)} contours remained.')\n",
    "\n",
    "contour_drawn = cv2.drawContours(img_cropped.copy(), contours, -1, color=(255, 0, 0 ), thickness=10)\n",
    "show_images(contour_drawn)\n",
    "\n",
    "# Sort contours by area. Just for better debugging.\n",
    "contours.sort(key=cv2.contourArea, reverse=True)"
   ]
  },
  {
   "cell_type": "markdown",
   "metadata": {},
   "source": [
    "**4) Nalezněte skutečné rozměry objektu**\n",
    "\n",
    "Nyní potřebujeme pro jednotlivé kontury zjistit jejich skutečné rozměry, které chceme vizualizovat do výsledného obrázku.\n",
    "\n",
    "Pro každou konturu tedy získáme jeji obdélníkovou aproximaci pomocí [cv2.minAreaRect](https://docs.opencv.org/3.1.0/d3/dc0/group__imgproc__shape.html#ga3d476a3417130ae5154aea421ca7ead9). Následně můžeme vypočítat skutečnou šířku a výšku objektu, díky předešlému vypočítanému poměru mezi skutečnou šířkou a pixelovou šířkou. Posledním krokem je volání funkce `draw_real_sizes()`, která se do vstupního obrázku pokusí vykreslit rozměry nalezeného objektu."
   ]
  },
  {
   "cell_type": "code",
   "execution_count": 10,
   "metadata": {
    "pycharm": {
     "name": "#%%\n"
    }
   },
   "outputs": [],
   "source": [
    "# create a copy of original image\n",
    "sizes_drawn = img_cropped.copy()\n",
    "\n",
    "for c in contours:\n",
    "    rect = cv2.minAreaRect(c)\n",
    "    shape_height, shape_width = rect[1]\n",
    "    real_width = real_image_ratio * shape_width\n",
    "    real_height = real_image_ratio * shape_height\n",
    "    \n",
    "    cv2.drawContours(sizes_drawn, [c], -1, color=(255, 0, 0 ), thickness=5)\n",
    "    sizes_drawn = draw_real_sizes(sizes_drawn, rect, real_height, real_width,\n",
    "                                  lbl_size_scale=.7, lbl_color=(0, 0, 255), lbl_thickness=1) ###\n",
    "\n",
    "show_images(sizes_drawn)"
   ]
  },
  {
   "cell_type": "markdown",
   "metadata": {},
   "source": [
    "### Úkol"
   ]
  },
  {
   "cell_type": "markdown",
   "metadata": {},
   "source": [
    "Zadání tohoto úkolu prověřuje vaše pochopení látky probírané na cvičení. Jeho cílem je implementace __výpočtu nejkratší vzdálenosti mezi obdélníky__ na zadaném zdrojovém obrázku. Úkol má první __základní část s nápovědami__ a druhou __dobrovolnou část__ s bonusovými rozšířeními. __Maximální počet bodů za základní část je 5__, z bonusové části je možné získat až __2 prémiové__. Podrobnosti o bonusech jsou na konci notebooku. Pokud si s něčím nebudete dlouho vědět rady, napište email a domluvíme konzultaci.\n",
    "\n",
    "\n",
    "Nyní uvažujme pouze základní variantu. Na začátek si je důležité uvědomit, že se __nejedná o vzdálenost mezi středy obdélníků__, nýbrž o nejkratší možné vzdálenosti hran objektů viz. [obrázek](text_imgs/patterns_lengths_example.JPG). Nezoufejte nyní, pokud nevíte jak vzdálenosti vypočítat, nápovědy v notebooku vám pomohou s řešením. Nemusíte se však striktně držet postupu, jakákoliv __individualita je vítaná__. K funkčnímu řešení se dá dobrat různými způsoby.\n",
    "\n",
    "![](text_imgs/patterns_lengths_example.JPG)\n",
    "\n",
    "\n",
    "Možná se ptáte, k čemu je to vlastně dobré. Motivace je ale jednoduchá - jedná se totiž o celkem běžně řešený problém v praxi. Navíc, v knihovně OpenCV pro to __neexistuje nativní implementace__, takže pokud zůstanete v oboru, může se vám to v budoucnu hodit. Představte si nyní, že vytváříte aplikaci, která má za úkol automatizovaně hrát hru ve které je nutné předcházet kolizím objektů ve scéně. Objekty umíte lokalizovat a ohraničit (nejčastěji obdélníkem), a mohou být různě velké a natočené. Jak nyní zjistit, jak jsou od sebe objekty daleko? V případě, že nebudou objekty (tedy ani obdélníky) natočené, lze vzdálenost vypočíst se znalostí středoškolské geometrie. V reálných situacích se tohle ale moc často nestává. Objekty jsou většinou libovolně natočené a tím se řešení trochu komplikuje. Stále si ale vystačíme se znalostí analytické geometrie ze střední školy, jen bude potřeba trochu programování navíc. Mimo kolize ve hře si můžeme představit využití i např. v aplikaci pro sledování pohybujících se objektů nebo monitorování průmyslových procesů (výrobní linka, spojování materiálů, atd.). \n",
    "\n",
    "Abychom si zbytečně nekomplikovali život, budeme řešení implementovat pouze na jednoduchém statickém snímku s několika obdélníky. __Zdrojový snímek základní verze je__ [patterns_photo_basic.jpg](patterns_photo_basic.jpg). Využijeme naší znalost ze cvičení a budou nás __zajímat nejkratší vzdálenosti v centimetrech__, nikoliv v pixelech.\n",
    "![](text_imgs/patterns_thumb.jpg)\n",
    "\n",
    "Předpokladem tohoto úkolu je, že __máte vypracovaný notebook z 3. cvičení__. Budeme totiž znovu potřebovat segmentované kontury všech objektů, a vzhledem k tomu, že už máme nějakou práci hotovou, byla by škoda na ni nenavázat. Využijeme tedy vypracovaný notebook ze cvičení, upravíme pouze barevné intervaly ve funkcích `inRange()` tak, aby dávaly smysl pro nový zdrojový obrázek. \n",
    "\n",
    "Na konec vyplněného notebooku ze cvičení rafinovaně __napojíme všechny buňky tohoto notebooku__. Nejjednoduší způsob jak to navázat je: \n",
    "* Pro jistotu si zálohovat původní notebook (pokud ho nemáte na gitu, fakt to udělejte).\n",
    "* Zkopírovat si potřebné zdrojové obrázky do stejné složky.\n",
    "* Otevřít si tento notebook a notebook ze cvičení v textovém editoru.\n",
    "* Všimněte si poměrně jednoduché struktury souboru ipynb notebooků. Jedná se o klasický formát JSON. Všechny buňky souboru se nachází v `{ \"cells\": [....] }`.\n",
    "* Obsah struktury `\"cells\"` zkopírujeme a vložíme na konec seznamu `\"cells\"` v souboru ze cvičení. Dejte si pozor ať vám sedí čárky a uzavírací závorky \"]\"."
   ]
  },
  {
   "cell_type": "markdown",
   "metadata": {},
   "source": [
    "### Základní část"
   ]
  },
  {
   "cell_type": "code",
   "execution_count": 11,
   "metadata": {
    "pycharm": {
     "name": "#%%\n"
    }
   },
   "outputs": [],
   "source": [
    "import itertools\n",
    "import math\n",
    "import cv2"
   ]
  },
  {
   "cell_type": "markdown",
   "metadata": {},
   "source": [
    "V řešení ze cvičení už máme hotové segmentace referenčního i ostatních objektů uložené formou kontur. \n",
    "Všechny tyto kontury se vyplatí přemístit do jedné struktury, neboť se s ní následně bude lépe pracovat.\n",
    "\n",
    "__1) Přesuňte všechny kontury do jedné struktury (např. list).__"
   ]
  },
  {
   "cell_type": "code",
   "execution_count": 12,
   "metadata": {
    "pycharm": {
     "name": "#%%\n"
    }
   },
   "outputs": [],
   "source": [
    "all_contours = [c for c in contours]\n",
    "all_contours.append(contour_biggest)"
   ]
  },
  {
   "cell_type": "markdown",
   "metadata": {},
   "source": [
    "__2) Pomocí funkce `len()` ověřte, že jich máte správný počet.__"
   ]
  },
  {
   "cell_type": "code",
   "execution_count": 13,
   "metadata": {
    "pycharm": {
     "name": "#%%\n"
    }
   },
   "outputs": [
    {
     "data": {
      "text/plain": [
       "5"
      ]
     },
     "execution_count": 13,
     "metadata": {},
     "output_type": "execute_result"
    }
   ],
   "source": [
    "len(all_contours)"
   ]
  },
  {
   "cell_type": "markdown",
   "metadata": {},
   "source": [
    "__3) Uložte si hodnoty všech možných indexů předchozího listu do nového listu. Může se vám k tomu hodit funkce `range()` + `list()`. Ideálně využijte i předchozí informaci o počtu kontur.__"
   ]
  },
  {
   "cell_type": "code",
   "execution_count": 14,
   "metadata": {
    "pycharm": {
     "name": "#%%\n"
    }
   },
   "outputs": [],
   "source": [
    "indexes = list(range(len(all_contours)))"
   ]
  },
  {
   "cell_type": "markdown",
   "metadata": {},
   "source": [
    "__4) Využijte funkci `itertools.combinations()` k získání všech možných dvojic kombinací indexů kontur. Pro jistotu si je vypiště.__"
   ]
  },
  {
   "cell_type": "code",
   "execution_count": 15,
   "metadata": {
    "pycharm": {
     "name": "#%%\n"
    }
   },
   "outputs": [
    {
     "name": "stdout",
     "output_type": "stream",
     "text": [
      "[(0, 1), (0, 2), (0, 3), (0, 4), (1, 2), (1, 3), (1, 4), (2, 3), (2, 4), (3, 4)]\n"
     ]
    }
   ],
   "source": [
    "all_indexes = list(itertools.combinations(tuple(indexes) , 2))\n",
    "print(all_indexes)"
   ]
  },
  {
   "cell_type": "markdown",
   "metadata": {},
   "source": [
    "Nyní už to konečně začne být trochu zajímavé. Zbývá __projít všechny možné kombinace kontur, aproximovat je obdélníkem\n",
    "vypočítat vzdálenost mezi všemi obdélníky, a výsledek vhodně vizualizovat v reálných jednotkách__. \n",
    "To je na jednu Jupyter buňku až moc operací, lepší řešení tedy bude tyto kroky rozpadnout do několika funkcí.\n",
    "\n",
    "Způsobů výpočtu nejkratší vzdáleností mezi obdelníky je více. Můžete samozřejmě využít jakékoliv řešení budete chtít (za předpokladu korektnosti výsledků). V tomto postupu budem však uvažovat pouze jedno a to, které se nám zdálo nejjednoduší na pochopení. \n",
    "\n",
    "Pro zjedodnušení celé úlohy __není nutné uvažovat žádné složité speciální případy__ - nejsme Progtest. Nemusíte tedy uvažovat, že se tvary jakkoliv překrývají. Předpokládáme, že vzdálenost je vždy > 0. S tím také souvisí pozdější detaily jako __neřešení případů bodu ležícího na úsečce, úsečky se protínají, atd__.\n",
    "\n",
    "Začneme tedy prvním stavebním kamenem našeho algoritmu, tedy __funkcí, která vypočte vzdálenost bodu od úsečky v pixelech__. Tato funkce je jádrem celého našeho řešení, je tedy nutné si ověřit, že vrací správné hodnoty.\n",
    "\n",
    "Pokud vůbec netušíte, jak byste takovou věc implementovali, hledejte klíčová slova `\"distance between line segment and point\"` a inspirujte se. Nezapomeňte však __uvést zdroj__ + případne okomentování. __Dejte si pozor, že line segment != line__, pracujeme pouze s úsečkami.\n",
    "\n",
    "__5) Doplňte funkci pro výpočet vzdálenosti mezi úsečkou a bodem.__"
   ]
  },
  {
   "cell_type": "code",
   "execution_count": 16,
   "metadata": {
    "pycharm": {
     "name": "#%%\n"
    }
   },
   "outputs": [],
   "source": [
    "def line_segment_to_point_dist(l_pt1, l_pt2, dst_pt):\n",
    "    \"\"\"\n",
    "    Zdroj \n",
    "    `https://math.stackexchange.com/questions/322831/determing-the-distance-from-a-line-segment-to-a-point-in-3-space/322836`\n",
    "    Nejkratší vzdálenost mezi přímkou a bodem je kolmice. Pokud však máme jen úsečku je to trochu složitější\n",
    "    Potřebujeme spočítat místo, kde by byla kolmice. Pokud je to místo mimo úsečku, tak v závislosti jestli je to \n",
    "    kladné nebo záporné, tak spočítáme jednoduše pomocí pythagorovy věty. Pokud je to v úsečce, použijeme vzorec pro přímku\n",
    "    \"\"\"\n",
    "    u = np.array((l_pt2[0] - l_pt1[0], l_pt2[1] - l_pt1[1]))\n",
    "    v = np.array((dst_pt[0] - l_pt1[0], dst_pt[1] - l_pt1[1]))\n",
    "    tmp = np.inner(u, v) / abs(np.inner(u, u))\n",
    "    # print(\"tmp is\", tmp)\n",
    "    if tmp > 1:\n",
    "        return ((l_pt2[0]-dst_pt[0])**2 + (l_pt2[1]-dst_pt[1])**2)**.5\n",
    "    elif tmp < 0:\n",
    "        return ((l_pt1[0]-dst_pt[0])**2 + (l_pt1[1]-dst_pt[1])**2)**.5\n",
    "    elif 0 <= tmp <=1:\n",
    "        p = l_pt1[0] + tmp*u[0], l_pt1[1] + tmp*u[1]\n",
    "        return ((p[0]-dst_pt[0])**2 + (p[1]-dst_pt[1])**2)**.5\n",
    "    raise ValueError()"
   ]
  },
  {
   "cell_type": "markdown",
   "metadata": {},
   "source": [
    "__6) Otestujte, že funkce vrací správné výsledky a dopište alespoň dva další asserty.__"
   ]
  },
  {
   "cell_type": "code",
   "execution_count": 17,
   "metadata": {
    "pycharm": {
     "name": "#%%\n"
    }
   },
   "outputs": [],
   "source": [
    "assert line_segment_to_point_dist((1,3), (3,4), (4,4)) ==  1\n",
    "assert line_segment_to_point_dist((1,3), (3,4), (-1,3)) ==  2\n",
    "assert line_segment_to_point_dist((5,7), (5,2), (3,4)) ==  2\n",
    "assert line_segment_to_point_dist((5,7), (5,1), (3,4)) ==  2"
   ]
  },
  {
   "cell_type": "markdown",
   "metadata": {},
   "source": [
    "Nyní potřebujeme další stavební blok, a to nejkratší vzdálenost dvou úseček. K tomu využijeme už hotovou funkci `line_segment_to_point_dist()`. Pokud vás nenapadá jak, zkuste si to nakreslit na papír.\n",
    "Nezapomeňte, že __nemusíme uvažovat speciální případy__ (např. to, že se protínají). S využítím funkce `min()` je to dokonce pouze na jeden řádek kódu.\n",
    "\n",
    "__7) Doplňte funkci pro výpočet vzdálenosti mezi dvěmi úsečkami.__"
   ]
  },
  {
   "cell_type": "code",
   "execution_count": 18,
   "metadata": {
    "pycharm": {
     "name": "#%%\n"
    }
   },
   "outputs": [],
   "source": [
    "def line_segments_dist(l1_pt1, l1_pt2, l2_pt1, l2_pt2):\n",
    "    return min(\n",
    "        line_segment_to_point_dist(l1_pt1, l1_pt2, l2_pt1),\n",
    "        line_segment_to_point_dist(l1_pt1, l1_pt2, l2_pt2),\n",
    "        line_segment_to_point_dist(l2_pt1, l2_pt2, l1_pt1),\n",
    "        line_segment_to_point_dist(l2_pt1, l2_pt2, l1_pt2),\n",
    "    )"
   ]
  },
  {
   "cell_type": "markdown",
   "metadata": {},
   "source": [
    "__8) Otestujte, že funkce vrací správné výsledky a dopište alespoň dva další asserty.__"
   ]
  },
  {
   "cell_type": "code",
   "execution_count": 19,
   "metadata": {
    "pycharm": {
     "name": "#%%\n"
    }
   },
   "outputs": [],
   "source": [
    "#print(line_segments_dist((1,5),(6,5), (7,7), (7,5)))\n",
    "assert line_segments_dist((1,3), (3,4), (5,7), (5,1)) ==  2\n",
    "assert line_segments_dist((1,5),(6,5), (7,7), (7,5)) == 1"
   ]
  },
  {
   "cell_type": "markdown",
   "metadata": {},
   "source": [
    "Když už umíme vypočítat nejkratší vzdálenost dvou úseček, máme vše potřebné pro výpočet nejkratší vzdálenosti mezi dvěma obdélníky. Stačí si jen uvědomit, že obdélník je složen ze čtyř spojených úseček. \n",
    "\n",
    "Typ vstupních parametrů funkce `rect_dist` je na vás. Nezapomeňte však, že `cv2.minAreaRect()` nevrací přímo souřadnice rohových bodů. Připomeňte si `cv2.boxPoints()` a `order_points()`.\n",
    "\n",
    "__9) Doplňte funkci pro výpočet vzdálenosti mezi dvěma obdélníky.__"
   ]
  },
  {
   "cell_type": "code",
   "execution_count": 20,
   "metadata": {
    "pycharm": {
     "name": "#%%\n"
    }
   },
   "outputs": [],
   "source": [
    "def rect_dist(r1_pts, r2_pts):\n",
    "    r1_c = itertools.combinations(r1_pts, 2)\n",
    "    r2_c = itertools.combinations(r2_pts, 2)\n",
    "    return min([line_segments_dist(x[0], x[1], y[0], y[1]) for x in r1_c for y in r2_c])"
   ]
  },
  {
   "cell_type": "markdown",
   "metadata": {},
   "source": [
    "__10) Otestujte, že funkce vrací správné výsledky a dopište alespoň dva další asserty.__"
   ]
  },
  {
   "cell_type": "code",
   "execution_count": 21,
   "metadata": {
    "pycharm": {
     "name": "#%%\n"
    }
   },
   "outputs": [],
   "source": [
    "assert rect_dist(((1,5), (6,5), (6,3), (1,3)), ((7,7), (9,7), (9, 5), (7, 5))) == 1\n",
    "assert rect_dist(((1,5), (6,5), (6,3), (1,3)), ((4,10), (6, 8), (4, 6), (2,8))) == 1"
   ]
  },
  {
   "cell_type": "markdown",
   "metadata": {},
   "source": [
    "Blížíme se do finále. Úplně v první buňce tohoto úkolu bychom měli mít vytvořený list se všemi konturami a list všech dvojic kombinací indexů kontur. Kontury vhodně převeďte tak, aby je bylo možné předat do definované funkce `rect_dist()` a tím získat vzdálenost mezi dvěma obdélníky v pixelech. Následně přepočítejte pixely na skutečné jednotky a vypiště nalezené vzdálenosti ve vhodném a kontrolovatelném formátu (např.: 1 <-> 3: 2.2 cm). \n",
    "\n",
    "__11) Vypočítejte vzdálenosti mezi všemi obdélníky ve snímku, vypiště vzdálenosti ve vhodném formátu v centimetrech.__"
   ]
  },
  {
   "cell_type": "code",
   "execution_count": 22,
   "metadata": {},
   "outputs": [
    {
     "name": "stdout",
     "output_type": "stream",
     "text": [
      "Rect tuple: ((3037.648681640625, 1063.90771484375), (1914.8492431640625, 550.8592529296875), -82.80413055419922)\n",
      "(cx, cy)=(3037.648681640625, 1063.90771484375), (width, height)=(1914.8492431640625, 550.8592529296875), angle=-82.80413055419922\n",
      "Rect points: [[3190.980224609375, 2048.2919921875], [2644.459716796875, 1979.2906494140625], [2884.317138671875, 79.5234375], [3430.837646484375, 148.5247802734375]]\n"
     ]
    },
    {
     "data": {
      "text/plain": [
       "array([[3190.980, 2048.292],\n",
       "       [2644.460, 1979.291],\n",
       "       [2884.317, 79.523],\n",
       "       [3430.838, 148.525]], dtype=float32)"
      ]
     },
     "execution_count": 22,
     "metadata": {},
     "output_type": "execute_result"
    }
   ],
   "source": [
    "tuple(all_contours[0][0][0])\n",
    "rect = cv2.minAreaRect(all_contours[0])\n",
    "print(f'Rect tuple: {rect}')\n",
    "print(f'(cx, cy)={rect[0]}, (width, height)={rect[1]}, angle={rect[2]}')\n",
    "print(f'Rect points: {cv2.boxPoints(rect).tolist()}')\n",
    "cv2.boxPoints(rect)"
   ]
  },
  {
   "cell_type": "code",
   "execution_count": 23,
   "metadata": {
    "pycharm": {
     "name": "#%%\n"
    }
   },
   "outputs": [
    {
     "name": "stdout",
     "output_type": "stream",
     "text": [
      "0 <-> 1: 6.45 cm\n",
      "0 <-> 2: 8.22 cm\n",
      "0 <-> 3: 1.90 cm\n",
      "0 <-> 4: 14.21 cm\n",
      "1 <-> 2: 5.19 cm\n",
      "1 <-> 3: 2.93 cm\n",
      "1 <-> 4: 2.49 cm\n",
      "2 <-> 3: 7.94 cm\n",
      "2 <-> 4: 5.01 cm\n",
      "3 <-> 4: 9.63 cm\n"
     ]
    }
   ],
   "source": [
    "for comb in all_indexes:\n",
    "    rect1 = cv2.minAreaRect(all_contours[comb[0]])\n",
    "    rect2 = cv2.minAreaRect(all_contours[comb[1]])\n",
    "    rect_points1 = cv2.boxPoints(rect1)\n",
    "    rect_points2 = cv2.boxPoints(rect2)\n",
    "    print('{0} <-> {1}: {2:.2f} cm'.format(comb[0], comb[1], rect_dist(rect_points1, rect_points2)*real_image_ratio))"
   ]
  },
  {
   "cell_type": "markdown",
   "metadata": {},
   "source": [
    "### Bonusová část\n",
    "\n",
    "Pokud to pro vás byla doposuď zívačka, a chtěli byste nějaké body navíc, je možné získat až 2 prémiové body za trochu dalšího přemýšlení a programování. Za každý splněný úkol ze seznamu je __1 prémiový bod__. Maximálně je možné získat __až 2 prémiové__.\n",
    "\n",
    "#### Úkoly:\n",
    "1) Vytvořte vhodnou vizualizaci vzdáleností mezi objekty. Např. vykreslení nejkratší úsečky mezi obdélníky a vypsání její délky v centimetrech.\n",
    "\n",
    "2) Upravte váš algoritmus tak, aby korektně fungoval i pro obrázek `patterns_photo_bonus.jpg`. Tedy podpora výpočtu nejkratší vzdálenosti mezi kombinací tvarů obdélník a kružnice. Jiné elipsové tvary pro jednoduchost neuvažujte. Může se vám na to hodit `cv2.fitEllipse()`.\n",
    "\n",
    "3) Zkuste navrhnout jiné řešení než to využívající vzdálenost bodů od úsečky. Nemusí být 100% funkční ve všech případech, ale jasně vyspecifikujte jeho úskalí a případy kdy nebude fungovat."
   ]
  }
 ],
 "metadata": {
  "kernelspec": {
   "display_name": "Python [default]",
   "language": "python",
   "name": "python3"
  },
  "language_info": {
   "codemirror_mode": {
    "name": "ipython",
    "version": 3
   },
   "file_extension": ".py",
   "mimetype": "text/x-python",
   "name": "python",
   "nbconvert_exporter": "python",
   "pygments_lexer": "ipython3",
   "version": "3.6.6"
  },
  "pycharm": {
   "stem_cell": {
    "cell_type": "raw",
    "metadata": {
     "collapsed": false
    },
    "source": []
   }
  }
 },
 "nbformat": 4,
 "nbformat_minor": 2
}
